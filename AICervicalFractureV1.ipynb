{
  "cells": [
    {
      "cell_type": "markdown",
      "metadata": {
        "id": "view-in-github",
        "colab_type": "text"
      },
      "source": [
        "<a href=\"https://colab.research.google.com/github/tennisvish/NASA_ML_Error_Detection_Sp25/blob/main/AICervicalFractureV1.ipynb\" target=\"_parent\"><img src=\"https://colab.research.google.com/assets/colab-badge.svg\" alt=\"Open In Colab\"/></a>"
      ]
    },
    {
      "cell_type": "code",
      "execution_count": null,
      "id": "f89f3e71-92b0-4b67-9d05-bc96b0d0d01b",
      "metadata": {
        "colab": {
          "base_uri": "https://localhost:8080/"
        },
        "id": "f89f3e71-92b0-4b67-9d05-bc96b0d0d01b",
        "outputId": "4c24086c-f8cd-4b6f-872c-89f4da81240f"
      },
      "outputs": [
        {
          "output_type": "stream",
          "name": "stderr",
          "text": [
            "WARNING:pydicom:The 'pydicom.pixel_data_handlers' module will be removed in v4.0, please use 'from pydicom.pixels import apply_voi_lut' instead\n"
          ]
        }
      ],
      "source": [
        "import os\n",
        "import numpy as np\n",
        "import pandas as pd\n",
        "import pydicom\n",
        "from pydicom.pixel_data_handlers.util import apply_voi_lut\n",
        "from PIL import Image\n",
        "import torch\n",
        "import torch.nn as nn\n",
        "import torch.optim as optim\n",
        "from torch.utils.data import Dataset, DataLoader\n",
        "from torchvision import transforms, models\n",
        "from sklearn.metrics import roc_auc_score\n",
        "from tqdm import tqdm\n",
        "\n",
        "# Fix random seeds\n",
        "torch.manual_seed(42)\n",
        "np.random.seed(42)"
      ]
    },
    {
      "cell_type": "code",
      "execution_count": 43,
      "id": "bb9b480b-145e-4870-ba1e-84df49b39d6a",
      "metadata": {
        "id": "bb9b480b-145e-4870-ba1e-84df49b39d6a"
      },
      "outputs": [],
      "source": [
        "class RobustRSNADataset(Dataset):\n",
        "    def __init__(self, csv_path, img_root, transform=None):\n",
        "        self.df = pd.read_csv(csv_path)\n",
        "        self.img_root = img_root\n",
        "        self.transform = transform\n",
        "\n",
        "        # Clean IDs (remove trailing slashes/quotes)\n",
        "        self.df[\"StudyInstanceUID\"] = self.df[\"StudyInstanceUID\"].astype(str).str.strip().str.strip('\"')\n",
        "        folder_ids = set(os.listdir(img_root))\n",
        "\n",
        "        # Filter to only existing folders\n",
        "        self.df = self.df[self.df[\"StudyInstanceUID\"].isin(folder_ids)]\n",
        "\n",
        "        if len(self.df) == 0:\n",
        "            raise ValueError(\"No matching folders found. Verify CSV IDs match folder names.\")\n",
        "\n",
        "    def __getitem__(self, idx):\n",
        "        study_uid = self.df.iloc[idx][\"StudyInstanceUID\"]\n",
        "        study_path = os.path.join(self.img_root, study_uid)\n",
        "        # ... (rest of your DICOM loading code)\n",
        "    def __init__(self, csv_path, img_root, transform=None):\n",
        "        self.df = pd.read_csv(csv_path)\n",
        "        self.img_root = img_root.rstrip(\"/\")  # Remove trailing slash if present\n",
        "        self.transform = transform\n",
        "\n",
        "        # Get available folders\n",
        "        available_folders = set(os.listdir(self.img_root))\n",
        "        self.df = self.df[self.df[\"StudyInstanceUID\"].isin(available_folders)]\n",
        "\n",
        "        if len(self.df) == 0:\n",
        "            raise ValueError(f\"No matching folders found in {self.img_root}\")\n",
        "\n",
        "    def __getitem__(self, idx):\n",
        "        study_uid = self.df.iloc[idx][\"StudyInstanceUID\"]\n",
        "        study_path = os.path.join(self.img_root, study_uid)  # Auto-handles slashes\n",
        "        slices = [f for f in os.listdir(study_path) if f.endswith(\".dcm\")]\n",
        "    def __init__(self, csv_path, img_root, transform=None, target_type=\"patient\"):\n",
        "        \"\"\"\n",
        "        Args:\n",
        "            csv_path: Path to train.csv\n",
        "            img_root: Path to train_images/\n",
        "            transform: Torchvision transforms\n",
        "            target_type: \"patient\" (patient_overall) or \"vertebra\" (C1-C7)\n",
        "        \"\"\"\n",
        "        self.df = pd.read_csv(csv_path)\n",
        "        self.img_root = img_root\n",
        "        self.transform = transform\n",
        "        self.target_type = target_type\n",
        "\n",
        "        # Auto-filter: Only keep patients with existing folders\n",
        "        available_patients = set(os.listdir(img_root))\n",
        "        self.df = self.df[self.df[\"StudyInstanceUID\"].isin(available_patients)].copy()\n",
        "        print(f\"Using {len(self.df)}/{len(available_patients)} available patients\")\n",
        "\n",
        "        if target_type == \"vertebra\":\n",
        "            self.labels = self.df[[\"C1\", \"C2\", \"C3\", \"C4\", \"C5\", \"C6\", \"C7\"]].values\n",
        "\n",
        "    def __len__(self):\n",
        "        return len(self.df)\n",
        "\n",
        "    def __getitem__(self, idx):\n",
        "        study_uid = self.df.iloc[idx][\"StudyInstanceUID\"]\n",
        "        study_path = os.path.join(self.img_root, study_uid)\n",
        "\n",
        "        # Load random slice\n",
        "        slices = [f for f in os.listdir(study_path) if f.endswith(\".dcm\")]\n",
        "        slice_path = os.path.join(study_path, np.random.choice(slices))\n",
        "\n",
        "        # Read and preprocess DICOM\n",
        "        dicom = pydicom.dcmread(slice_path)\n",
        "        img = apply_voi_lut(dicom.pixel_array, dicom)\n",
        "        img = (img - img.min()) / (img.max() - img.min())  # Normalize to [0,1]\n",
        "        img = np.stack([img]*3, axis=-1)  # Convert to 3-channel\n",
        "        img = Image.fromarray((img * 255).astype(np.uint8))\n",
        "\n",
        "        if self.transform:\n",
        "            img = self.transform(img)\n",
        "\n",
        "        # Get label(s)\n",
        "        if self.target_type == \"patient\":\n",
        "            label = self.df.iloc[idx][\"patient_overall\"]\n",
        "            return img, torch.tensor(label, dtype=torch.float32)\n",
        "        else:\n",
        "            labels = self.labels[idx]\n",
        "            return img, torch.tensor(labels, dtype=torch.float32)"
      ]
    },
    {
      "cell_type": "code",
      "execution_count": 47,
      "id": "cd18a46d-1dd2-4d46-9f52-ffd33099128e",
      "metadata": {
        "id": "cd18a46d-1dd2-4d46-9f52-ffd33099128e"
      },
      "outputs": [],
      "source": [
        "class SpineFractureModel(nn.Module):\n",
        "    def __init__(self):\n",
        "        super().__init__()\n",
        "        self.backbone = models.resnet18(pretrained=True)\n",
        "\n",
        "        # Replace the final fully connected layer\n",
        "        num_features = self.backbone.fc.in_features  # This should be 512 for resnet18\n",
        "        self.backbone.fc = nn.Identity()  # Remove the original FC layer\n",
        "\n",
        "        # Patient head\n",
        "        self.patient_head = nn.Sequential(\n",
        "            nn.Linear(num_features, 1),  # 512 → 1\n",
        "            nn.Sigmoid()\n",
        "        )\n",
        "\n",
        "        # Vertebrae heads (C1-C7)\n",
        "        self.vertebrae_heads = nn.Sequential(\n",
        "            nn.Linear(num_features, 7),  # 512 → 7 (one output per vertebra)\n",
        "            nn.Sigmoid()\n",
        "        )\n",
        "\n",
        "    def forward(self, x):\n",
        "        features = self.backbone(x)  # Output shape: [batch_size, 512]\n",
        "        patient_out = self.patient_head(features)  # Shape: [batch_size, 1]\n",
        "        vertebrae_out = self.vertebrae_heads(features)  # Shape: [batch_size, 7]\n",
        "        return patient_out, vertebrae_out"
      ]
    },
    {
      "cell_type": "code",
      "execution_count": 54,
      "id": "8e5b36b6-83f8-499d-b42b-b818f0e1a419",
      "metadata": {
        "id": "8e5b36b6-83f8-499d-b42b-b818f0e1a419"
      },
      "outputs": [],
      "source": [
        "def train_model(model, train_loader, val_loader, epochs=5, lr=1e-4):\n",
        "    device = torch.device(\"cuda\" if torch.cuda.is_available() else \"cpu\")\n",
        "    model = model.to(device)\n",
        "\n",
        "    optimizer = optim.Adam(model.parameters(), lr=lr)\n",
        "    patient_criterion = nn.BCELoss()\n",
        "    vertebra_criterion = nn.BCELoss()\n",
        "\n",
        "    for epoch in range(epochs):\n",
        "        model.train()\n",
        "        train_loss = 0.0\n",
        "\n",
        "        for imgs, labels in tqdm(train_loader, desc=f\"Epoch {epoch+1}\"):\n",
        "            imgs = imgs.to(device)\n",
        "            # Separate patient and vertebrae labels based on target_type\n",
        "            if len(labels.shape) == 1:  # patient_overall\n",
        "                patient_labels = labels.to(device).float()  # Ensure float type for BCELoss\n",
        "                vertebra_labels = torch.zeros(labels.shape[0], 7, device=device)  # Dummy labels for vertebrae\n",
        "            else:  # C1-C7\n",
        "                patient_labels = torch.zeros(labels.shape[0], device=device).float()  # Dummy labels for patient_overall\n",
        "                vertebra_labels = labels.to(device).float()  # Ensure float type for BCELoss\n",
        "\n",
        "            optimizer.zero_grad()\n",
        "            patient_preds, vertebra_preds = model(imgs)\n",
        "            # Ensure correct dimensions for loss calculation:\n",
        "            loss = patient_criterion(patient_preds.squeeze(1), patient_labels) + \\\n",
        "                   vertebra_criterion(vertebra_preds, vertebra_labels)\n",
        "\n",
        "            loss.backward()\n",
        "            optimizer.step()\n",
        "            train_loss += loss.item()\n",
        "\n",
        "        # Validation\n",
        "        model.eval()\n",
        "        val_loss = 0.0\n",
        "        all_preds, all_labels = [], []\n",
        "\n",
        "        with torch.no_grad():\n",
        "            for imgs, labels in val_loader:  # Changed here\n",
        "                imgs = imgs.to(device)\n",
        "                # Separate patient and vertebrae labels based on target_type\n",
        "                if len(labels.shape) == 1:  # patient_overall\n",
        "                    patient_labels = labels.to(device).float()  # Ensure float type for BCELoss\n",
        "                    vertebra_labels = torch.zeros(labels.shape[0], 7, device=device)  # Dummy labels for vertebrae\n",
        "                else:  # C1-C7\n",
        "                    patient_labels = torch.zeros(labels.shape[0], device=device).float()  # Dummy labels for patient_overall\n",
        "                    vertebra_labels = labels.to(device).float()  # Ensure float type for BCELoss\n",
        "\n",
        "\n",
        "                patient_preds, vertebra_preds = model(imgs)\n",
        "                loss = patient_criterion(patient_preds.squeeze(1), patient_labels) + \\\n",
        "                       vertebra_criterion(vertebra_preds, vertebra_labels)\n",
        "                val_loss += loss.item()\n",
        "\n",
        "                all_preds.append(torch.cat([patient_preds, vertebra_preds], dim=1).cpu())\n",
        "                all_labels.append(torch.cat([patient_labels.unsqueeze(1), vertebra_labels], dim=1).cpu())\n",
        "\n",
        "        # Calculate AUC\n",
        "        all_preds = torch.cat(all_preds).numpy()\n",
        "        all_labels = torch.cat(all_labels).numpy()\n",
        "        auc_scores = [roc_auc_score(all_labels[:, i], all_preds[:, i]) for i in range(8)]\n",
        "        mean_auc = np.mean(auc_scores)\n",
        "\n",
        "        print(f\"Epoch {epoch+1} | Train Loss: {train_loss/len(train_loader):.4f} | \"\n",
        "              f\"Val Loss: {val_loss/len(val_loader):.4f} | Mean AUC: {mean_auc:.4f}\")"
      ]
    },
    {
      "cell_type": "code",
      "source": [
        "# Transforms\n",
        "transform = transforms.Compose([\n",
        "    transforms.Resize(256),\n",
        "    transforms.CenterCrop(224),\n",
        "    transforms.ToTensor(),\n",
        "    transforms.Normalize(mean=[0.485, 0.456, 0.406], std=[0.229, 0.224, 0.225])\n",
        "])\n",
        "\n",
        "# Initialize dataset (auto-filters to available patients)\n",
        "train_dataset = FilteredRSNADataset(\n",
        "    csv_path=\"/content/train.csv\",\n",
        "    img_root=\"/content/train_images/\",\n",
        "    transform=transform,\n",
        "    target_type=\"vertebra\"\n",
        ")\n",
        "\n",
        "# Train/val split\n",
        "train_size = int(0.8 * len(train_dataset))\n",
        "val_size = len(train_dataset) - train_size\n",
        "train_set, val_set = torch.utils.data.random_split(train_dataset, [train_size, val_size])\n",
        "\n",
        "# DataLoaders\n",
        "train_loader = DataLoader(train_set, batch_size=32, shuffle=True)\n",
        "val_loader = DataLoader(val_set, batch_size=32)\n",
        "\n",
        "# Initialize and train model\n",
        "model = SpineFractureModel()\n",
        "train_model(model, train_loader, val_loader, epochs=5)\n",
        "\n",
        "# Sample prediction\n",
        "sample_img, sample_label = train_dataset[0]\n",
        "with torch.no_grad():\n",
        "    patient_pred, vertebra_preds = model(sample_img.unsqueeze(0))\n",
        "    print(f\"\\nSample Prediction:\")\n",
        "    print(f\"Patient fracture prob: {patient_pred.item():.2%}\")\n",
        "    print(f\"Vertebrae probs: {[f'{v.item():.2%}' for v in vertebra_preds[0]]}\")"
      ],
      "metadata": {
        "colab": {
          "base_uri": "https://localhost:8080/"
        },
        "id": "iX9kz_dFhehI",
        "outputId": "1c4689c5-87f7-4530-9a99-bc17ed8d1084"
      },
      "id": "iX9kz_dFhehI",
      "execution_count": 55,
      "outputs": [
        {
          "output_type": "stream",
          "name": "stderr",
          "text": [
            "/usr/local/lib/python3.11/dist-packages/torchvision/models/_utils.py:208: UserWarning: The parameter 'pretrained' is deprecated since 0.13 and may be removed in the future, please use 'weights' instead.\n",
            "  warnings.warn(\n",
            "/usr/local/lib/python3.11/dist-packages/torchvision/models/_utils.py:223: UserWarning: Arguments other than a weight enum or `None` for 'weights' are deprecated since 0.13 and may be removed in the future. The current behavior is equivalent to passing `weights=ResNet18_Weights.IMAGENET1K_V1`. You can also use `weights=ResNet18_Weights.DEFAULT` to get the most up-to-date weights.\n",
            "  warnings.warn(msg)\n"
          ]
        },
        {
          "output_type": "stream",
          "name": "stdout",
          "text": [
            "Using 3/4 available patients\n"
          ]
        },
        {
          "output_type": "stream",
          "name": "stderr",
          "text": [
            "Epoch 1: 100%|██████████| 1/1 [00:00<00:00,  1.87it/s]\n",
            "/usr/local/lib/python3.11/dist-packages/sklearn/metrics/_ranking.py:379: UndefinedMetricWarning: Only one class is present in y_true. ROC AUC score is not defined in that case.\n",
            "  warnings.warn(\n",
            "/usr/local/lib/python3.11/dist-packages/sklearn/metrics/_ranking.py:379: UndefinedMetricWarning: Only one class is present in y_true. ROC AUC score is not defined in that case.\n",
            "  warnings.warn(\n",
            "/usr/local/lib/python3.11/dist-packages/sklearn/metrics/_ranking.py:379: UndefinedMetricWarning: Only one class is present in y_true. ROC AUC score is not defined in that case.\n",
            "  warnings.warn(\n",
            "/usr/local/lib/python3.11/dist-packages/sklearn/metrics/_ranking.py:379: UndefinedMetricWarning: Only one class is present in y_true. ROC AUC score is not defined in that case.\n",
            "  warnings.warn(\n",
            "/usr/local/lib/python3.11/dist-packages/sklearn/metrics/_ranking.py:379: UndefinedMetricWarning: Only one class is present in y_true. ROC AUC score is not defined in that case.\n",
            "  warnings.warn(\n",
            "/usr/local/lib/python3.11/dist-packages/sklearn/metrics/_ranking.py:379: UndefinedMetricWarning: Only one class is present in y_true. ROC AUC score is not defined in that case.\n",
            "  warnings.warn(\n",
            "/usr/local/lib/python3.11/dist-packages/sklearn/metrics/_ranking.py:379: UndefinedMetricWarning: Only one class is present in y_true. ROC AUC score is not defined in that case.\n",
            "  warnings.warn(\n",
            "/usr/local/lib/python3.11/dist-packages/sklearn/metrics/_ranking.py:379: UndefinedMetricWarning: Only one class is present in y_true. ROC AUC score is not defined in that case.\n",
            "  warnings.warn(\n"
          ]
        },
        {
          "output_type": "stream",
          "name": "stdout",
          "text": [
            "Epoch 1 | Train Loss: 1.5763 | Val Loss: 1.7298 | Mean AUC: nan\n"
          ]
        },
        {
          "output_type": "stream",
          "name": "stderr",
          "text": [
            "Epoch 2: 100%|██████████| 1/1 [00:00<00:00,  1.88it/s]\n",
            "/usr/local/lib/python3.11/dist-packages/sklearn/metrics/_ranking.py:379: UndefinedMetricWarning: Only one class is present in y_true. ROC AUC score is not defined in that case.\n",
            "  warnings.warn(\n",
            "/usr/local/lib/python3.11/dist-packages/sklearn/metrics/_ranking.py:379: UndefinedMetricWarning: Only one class is present in y_true. ROC AUC score is not defined in that case.\n",
            "  warnings.warn(\n",
            "/usr/local/lib/python3.11/dist-packages/sklearn/metrics/_ranking.py:379: UndefinedMetricWarning: Only one class is present in y_true. ROC AUC score is not defined in that case.\n",
            "  warnings.warn(\n",
            "/usr/local/lib/python3.11/dist-packages/sklearn/metrics/_ranking.py:379: UndefinedMetricWarning: Only one class is present in y_true. ROC AUC score is not defined in that case.\n",
            "  warnings.warn(\n",
            "/usr/local/lib/python3.11/dist-packages/sklearn/metrics/_ranking.py:379: UndefinedMetricWarning: Only one class is present in y_true. ROC AUC score is not defined in that case.\n",
            "  warnings.warn(\n",
            "/usr/local/lib/python3.11/dist-packages/sklearn/metrics/_ranking.py:379: UndefinedMetricWarning: Only one class is present in y_true. ROC AUC score is not defined in that case.\n",
            "  warnings.warn(\n",
            "/usr/local/lib/python3.11/dist-packages/sklearn/metrics/_ranking.py:379: UndefinedMetricWarning: Only one class is present in y_true. ROC AUC score is not defined in that case.\n",
            "  warnings.warn(\n",
            "/usr/local/lib/python3.11/dist-packages/sklearn/metrics/_ranking.py:379: UndefinedMetricWarning: Only one class is present in y_true. ROC AUC score is not defined in that case.\n",
            "  warnings.warn(\n"
          ]
        },
        {
          "output_type": "stream",
          "name": "stdout",
          "text": [
            "Epoch 2 | Train Loss: 1.4067 | Val Loss: 1.5239 | Mean AUC: nan\n"
          ]
        },
        {
          "output_type": "stream",
          "name": "stderr",
          "text": [
            "Epoch 3: 100%|██████████| 1/1 [00:00<00:00,  1.82it/s]\n",
            "/usr/local/lib/python3.11/dist-packages/sklearn/metrics/_ranking.py:379: UndefinedMetricWarning: Only one class is present in y_true. ROC AUC score is not defined in that case.\n",
            "  warnings.warn(\n",
            "/usr/local/lib/python3.11/dist-packages/sklearn/metrics/_ranking.py:379: UndefinedMetricWarning: Only one class is present in y_true. ROC AUC score is not defined in that case.\n",
            "  warnings.warn(\n",
            "/usr/local/lib/python3.11/dist-packages/sklearn/metrics/_ranking.py:379: UndefinedMetricWarning: Only one class is present in y_true. ROC AUC score is not defined in that case.\n",
            "  warnings.warn(\n",
            "/usr/local/lib/python3.11/dist-packages/sklearn/metrics/_ranking.py:379: UndefinedMetricWarning: Only one class is present in y_true. ROC AUC score is not defined in that case.\n",
            "  warnings.warn(\n",
            "/usr/local/lib/python3.11/dist-packages/sklearn/metrics/_ranking.py:379: UndefinedMetricWarning: Only one class is present in y_true. ROC AUC score is not defined in that case.\n",
            "  warnings.warn(\n",
            "/usr/local/lib/python3.11/dist-packages/sklearn/metrics/_ranking.py:379: UndefinedMetricWarning: Only one class is present in y_true. ROC AUC score is not defined in that case.\n",
            "  warnings.warn(\n",
            "/usr/local/lib/python3.11/dist-packages/sklearn/metrics/_ranking.py:379: UndefinedMetricWarning: Only one class is present in y_true. ROC AUC score is not defined in that case.\n",
            "  warnings.warn(\n",
            "/usr/local/lib/python3.11/dist-packages/sklearn/metrics/_ranking.py:379: UndefinedMetricWarning: Only one class is present in y_true. ROC AUC score is not defined in that case.\n",
            "  warnings.warn(\n"
          ]
        },
        {
          "output_type": "stream",
          "name": "stdout",
          "text": [
            "Epoch 3 | Train Loss: 1.3939 | Val Loss: 1.3779 | Mean AUC: nan\n"
          ]
        },
        {
          "output_type": "stream",
          "name": "stderr",
          "text": [
            "Epoch 4: 100%|██████████| 1/1 [00:00<00:00,  2.55it/s]\n",
            "/usr/local/lib/python3.11/dist-packages/sklearn/metrics/_ranking.py:379: UndefinedMetricWarning: Only one class is present in y_true. ROC AUC score is not defined in that case.\n",
            "  warnings.warn(\n",
            "/usr/local/lib/python3.11/dist-packages/sklearn/metrics/_ranking.py:379: UndefinedMetricWarning: Only one class is present in y_true. ROC AUC score is not defined in that case.\n",
            "  warnings.warn(\n",
            "/usr/local/lib/python3.11/dist-packages/sklearn/metrics/_ranking.py:379: UndefinedMetricWarning: Only one class is present in y_true. ROC AUC score is not defined in that case.\n",
            "  warnings.warn(\n",
            "/usr/local/lib/python3.11/dist-packages/sklearn/metrics/_ranking.py:379: UndefinedMetricWarning: Only one class is present in y_true. ROC AUC score is not defined in that case.\n",
            "  warnings.warn(\n",
            "/usr/local/lib/python3.11/dist-packages/sklearn/metrics/_ranking.py:379: UndefinedMetricWarning: Only one class is present in y_true. ROC AUC score is not defined in that case.\n",
            "  warnings.warn(\n",
            "/usr/local/lib/python3.11/dist-packages/sklearn/metrics/_ranking.py:379: UndefinedMetricWarning: Only one class is present in y_true. ROC AUC score is not defined in that case.\n",
            "  warnings.warn(\n",
            "/usr/local/lib/python3.11/dist-packages/sklearn/metrics/_ranking.py:379: UndefinedMetricWarning: Only one class is present in y_true. ROC AUC score is not defined in that case.\n",
            "  warnings.warn(\n",
            "/usr/local/lib/python3.11/dist-packages/sklearn/metrics/_ranking.py:379: UndefinedMetricWarning: Only one class is present in y_true. ROC AUC score is not defined in that case.\n",
            "  warnings.warn(\n"
          ]
        },
        {
          "output_type": "stream",
          "name": "stdout",
          "text": [
            "Epoch 4 | Train Loss: 1.3673 | Val Loss: 1.2732 | Mean AUC: nan\n"
          ]
        },
        {
          "output_type": "stream",
          "name": "stderr",
          "text": [
            "Epoch 5: 100%|██████████| 1/1 [00:00<00:00,  2.60it/s]"
          ]
        },
        {
          "output_type": "stream",
          "name": "stdout",
          "text": [
            "Epoch 5 | Train Loss: 1.1918 | Val Loss: 1.3767 | Mean AUC: nan\n",
            "\n",
            "Sample Prediction:\n",
            "Patient fracture prob: 74.14%\n",
            "Vertebrae probs: ['4.40%', '5.54%', '32.94%', '43.26%', '39.03%', '56.69%', '37.40%']\n"
          ]
        },
        {
          "output_type": "stream",
          "name": "stderr",
          "text": [
            "\n",
            "/usr/local/lib/python3.11/dist-packages/sklearn/metrics/_ranking.py:379: UndefinedMetricWarning: Only one class is present in y_true. ROC AUC score is not defined in that case.\n",
            "  warnings.warn(\n",
            "/usr/local/lib/python3.11/dist-packages/sklearn/metrics/_ranking.py:379: UndefinedMetricWarning: Only one class is present in y_true. ROC AUC score is not defined in that case.\n",
            "  warnings.warn(\n",
            "/usr/local/lib/python3.11/dist-packages/sklearn/metrics/_ranking.py:379: UndefinedMetricWarning: Only one class is present in y_true. ROC AUC score is not defined in that case.\n",
            "  warnings.warn(\n",
            "/usr/local/lib/python3.11/dist-packages/sklearn/metrics/_ranking.py:379: UndefinedMetricWarning: Only one class is present in y_true. ROC AUC score is not defined in that case.\n",
            "  warnings.warn(\n",
            "/usr/local/lib/python3.11/dist-packages/sklearn/metrics/_ranking.py:379: UndefinedMetricWarning: Only one class is present in y_true. ROC AUC score is not defined in that case.\n",
            "  warnings.warn(\n",
            "/usr/local/lib/python3.11/dist-packages/sklearn/metrics/_ranking.py:379: UndefinedMetricWarning: Only one class is present in y_true. ROC AUC score is not defined in that case.\n",
            "  warnings.warn(\n",
            "/usr/local/lib/python3.11/dist-packages/sklearn/metrics/_ranking.py:379: UndefinedMetricWarning: Only one class is present in y_true. ROC AUC score is not defined in that case.\n",
            "  warnings.warn(\n",
            "/usr/local/lib/python3.11/dist-packages/sklearn/metrics/_ranking.py:379: UndefinedMetricWarning: Only one class is present in y_true. ROC AUC score is not defined in that case.\n",
            "  warnings.warn(\n"
          ]
        }
      ]
    },
    {
      "cell_type": "code",
      "execution_count": 66,
      "id": "bfb85fa3-b6d1-4283-b3c3-afad5c67a0a3",
      "metadata": {
        "colab": {
          "base_uri": "https://localhost:8080/"
        },
        "id": "bfb85fa3-b6d1-4283-b3c3-afad5c67a0a3",
        "outputId": "f009924e-f945-4328-94fd-c7b8a2139f1a"
      },
      "outputs": [
        {
          "output_type": "stream",
          "name": "stdout",
          "text": [
            "Patient fracture probability: 57.37%\n",
            "C1 fracture probability: 14.17%\n",
            "C2 fracture probability: 12.07%\n",
            "C3 fracture probability: 37.66%\n",
            "C4 fracture probability: 29.42%\n",
            "C5 fracture probability: 30.58%\n",
            "C6 fracture probability: 66.82%\n",
            "C7 fracture probability: 62.64%\n"
          ]
        }
      ],
      "source": [
        "def predict(image_path, model, transform):\n",
        "    \"\"\"Predict for a single DICOM image\"\"\"\n",
        "    # Define device here\n",
        "    device = torch.device(\"cuda\" if torch.cuda.is_available() else \"cpu\")\n",
        "    # Load and preprocess image (same as dataset __getitem__)\n",
        "    dicom = pydicom.dcmread(image_path)\n",
        "    img = apply_voi_lut(dicom.pixel_array, dicom)\n",
        "    img = (img - img.min()) / (img.max() - img.min())\n",
        "    img = np.stack([img]*3, axis=-1)\n",
        "    img = Image.fromarray((img * 255).astype(np.uint8))\n",
        "    img = transform(img).unsqueeze(0)\n",
        "\n",
        "    # Predict\n",
        "    with torch.no_grad():\n",
        "        patient_prob, vertebrae_probs = model(img.to(device))\n",
        "\n",
        "    return {\n",
        "        \"patient_fracture_prob\": patient_prob.item(),\n",
        "        \"vertebrae_probs\": vertebrae_probs.squeeze().tolist()\n",
        "    }\n",
        "\n",
        "# Example usage\n",
        "pred = predict(\"test_images/10.dcm\", model, transform)\n",
        "print(f\"Patient fracture probability: {pred['patient_fracture_prob']:.2%}\")\n",
        "for i, prob in enumerate(pred['vertebrae_probs'], 1):\n",
        "    print(f\"C{i} fracture probability: {prob:.2%}\")"
      ]
    },
    {
      "cell_type": "code",
      "execution_count": null,
      "id": "c55779db-de9d-4a4a-8570-d91b4d418390",
      "metadata": {
        "id": "c55779db-de9d-4a4a-8570-d91b4d418390"
      },
      "outputs": [],
      "source": [
        "!pip install pydicom pylibjpeg pylibjpeg-libjpeg gdcm"
      ]
    },
    {
      "cell_type": "code",
      "execution_count": null,
      "id": "604e9edc-51f2-4ab5-a95d-d2468366a24e",
      "metadata": {
        "id": "604e9edc-51f2-4ab5-a95d-d2468366a24e"
      },
      "outputs": [],
      "source": [
        "import os\n",
        "import pandas as pd\n",
        "\n",
        "# Load CSV and get StudyInstanceUIDs\n",
        "df = pd.read_csv(\"train.csv\")\n",
        "csv_ids = set(df[\"StudyInstanceUID\"].astype(str))  # Force string type\n",
        "\n",
        "# Get folder names in train_images\n",
        "folder_ids = set(os.listdir(\"train_images\"))\n",
        "\n",
        "# Find mismatches\n",
        "mismatched = csv_ids - folder_ids\n",
        "print(f\"{len(mismatched)} CSV IDs missing in folders. Examples:\")\n",
        "print(list(mismatched)[:3])  # Print first 3 problematic IDs"
      ]
    },
    {
      "cell_type": "code",
      "source": [
        "# Recommended save method (saves both architecture and weights)\n",
        "torch.save(model, \"spine_fracture_model.pth\")"
      ],
      "metadata": {
        "id": "RTkQWikSuIvg"
      },
      "id": "RTkQWikSuIvg",
      "execution_count": 59,
      "outputs": []
    },
    {
      "cell_type": "code",
      "source": [
        "# Alternative (saves just weights - requires model class definition when loading)\n",
        "torch.save(model.state_dict(), \"spine_fracture_weights.pth\")"
      ],
      "metadata": {
        "id": "9BC7JcZaxfZn"
      },
      "id": "9BC7JcZaxfZn",
      "execution_count": 60,
      "outputs": []
    },
    {
      "cell_type": "code",
      "source": [
        "# Try saving with different protocol\n",
        "torch.save(model.state_dict(), \"new_model.pt\", pickle_protocol=4)"
      ],
      "metadata": {
        "id": "OJ1-PV-c3G1w"
      },
      "id": "OJ1-PV-c3G1w",
      "execution_count": 67,
      "outputs": []
    }
  ],
  "metadata": {
    "kernelspec": {
      "display_name": "Python 3 (ipykernel)",
      "language": "python",
      "name": "python3"
    },
    "language_info": {
      "codemirror_mode": {
        "name": "ipython",
        "version": 3
      },
      "file_extension": ".py",
      "mimetype": "text/x-python",
      "name": "python",
      "nbconvert_exporter": "python",
      "pygments_lexer": "ipython3",
      "version": "3.11.7"
    },
    "colab": {
      "provenance": [],
      "include_colab_link": true
    }
  },
  "nbformat": 4,
  "nbformat_minor": 5
}